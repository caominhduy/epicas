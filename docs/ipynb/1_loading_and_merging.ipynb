{
 "cells": [
  {
   "cell_type": "code",
   "execution_count": 1,
   "metadata": {
    "jupyter": {
     "source_hidden": true
    },
    "tags": []
   },
   "outputs": [],
   "source": [
    "import os\n",
    "os.chdir('../..')"
   ]
  },
  {
   "cell_type": "code",
   "execution_count": 2,
   "metadata": {},
   "outputs": [],
   "source": [
    "import epicas"
   ]
  },
  {
   "cell_type": "markdown",
   "metadata": {},
   "source": [
    "## Load Dynamic (Time-Series) Data\n",
    "\n",
    "Time-series data is data that is updated through out the outbreaking season. Time-series can be the target variable that we are trying to predict (e.g., COVID-19), or other independent variables that change and can be used as training features.\n",
    "\n",
    "Dynamic data, thus, must include a date column. Location column is optional (if there is only one time-series, aka time-series for one location, there is no need for location column). In the following example, we will look at the dataset `jhu_data.xz` that looks like below.\n",
    "\n",
    "| FIPS  | date       | confirmed_cases | confirmed_cases_norm |\n",
    "|-------|------------|-----------------|----------------------|\n",
    "| 1001  | 2020-02-15 | 0               | 0                    |\n",
    "| 1001  | 2020-02-16 | 0               | 0                    |\n",
    "| ...   | ...        | ...             | ...                  |\n",
    "| 56045 | 2021-08-08 | 13              | 187                   |\n",
    "\n",
    "In this case, the column \"FIPS\" is our location column, \"date\" is our date column, confirmed_case records incidences, confirmed_cases_norm is an extra feature. Let's import this!\n",
    "\n",
    "To import this, we use a special class called `StructuredData`.\n"
   ]
  },
  {
   "cell_type": "code",
   "execution_count": 3,
   "metadata": {},
   "outputs": [],
   "source": [
    "jhu = epicas.StructuredData(\n",
    "        'demo/datasets/covid.xz',\n",
    "        location = 'FIPS',\n",
    "        date = 'date',\n",
    "        incidence = 'confirmed_cases',\n",
    "        )"
   ]
  },
  {
   "cell_type": "markdown",
   "metadata": {},
   "source": [
    "Great! But how does it look? Let's find out."
   ]
  },
  {
   "cell_type": "code",
   "execution_count": 4,
   "metadata": {},
   "outputs": [
    {
     "name": "stdout",
     "output_type": "stream",
     "text": [
      "StructuredData['location', 'date', 'incidence', 'confirmed_cases_norm']\n",
      "\n",
      "Variables: {'static': None, 'time_series': ['location', 'date', 'incidence', 'confirmed_cases_norm']}\n",
      "\n",
      "         location       date  incidence  confirmed_cases_norm\n",
      "0            1001 2020-02-15        0.0                   0.0\n",
      "1            1001 2020-02-16        0.0                   0.0\n",
      "2            1001 2020-02-17        0.0                   0.0\n",
      "3            1001 2020-02-18        0.0                   0.0\n",
      "4            1001 2020-02-19        0.0                   0.0\n",
      "...           ...        ...        ...                   ...\n",
      "1659783     56045 2021-08-04       10.0                 144.0\n",
      "1659784     56045 2021-08-05       10.0                 144.0\n",
      "1659785     56045 2021-08-06        9.0                 129.0\n",
      "1659786     56045 2021-08-07       13.0                 187.0\n",
      "1659787     56045 2021-08-08       13.0                 187.0\n",
      "\n",
      "[1659788 rows x 4 columns]\n",
      "\n",
      "\n"
     ]
    }
   ],
   "source": [
    "print(jhu)"
   ]
  },
  {
   "cell_type": "markdown",
   "metadata": {},
   "source": [
    "Awesome! As you can see, the columns are also re-labeled for readability and consistency.\n",
    "\n",
    "Now, let's try to import something else. How about mobility data?"
   ]
  },
  {
   "cell_type": "code",
   "execution_count": 5,
   "metadata": {},
   "outputs": [],
   "source": [
    "mobility = epicas.StructuredData(\n",
    "        'demo/datasets/mobility.csv.gz',\n",
    "        location = 'FIPS',\n",
    "        date = 'date'\n",
    "        )"
   ]
  },
  {
   "cell_type": "markdown",
   "metadata": {},
   "source": [
    "Done!"
   ]
  },
  {
   "cell_type": "markdown",
   "metadata": {},
   "source": [
    "## Load Static Data\n",
    "Static data is data that is not changed, or presumed to be the same through out outbreaking season. e.g., population data, asthma mortality, etc.\n",
    "\n",
    "This seems trickier, doesn't it? Actually NO, it is even easier. *Hint:* static data does not have as many columns! The process is still *(almost)* the same, except you do not address date column."
   ]
  },
  {
   "cell_type": "code",
   "execution_count": 6,
   "metadata": {},
   "outputs": [],
   "source": [
    "population = epicas.StructuredData(\n",
    "        'Reichlab_Population.csv',\n",
    "        location = 'location',\n",
    "        usecols = ['location', 'population']\n",
    "        )"
   ]
  },
  {
   "cell_type": "markdown",
   "metadata": {},
   "source": [
    "Notice that I use some special argument in Pandas, namely `usecols` to import only a subset of columns. In fact, since Epicas is built on top of Pandas, feel free to try other arguments from [here](https://pandas.pydata.org/pandas-docs/stable/reference/api/pandas.read_csv.html).\n",
    "\n",
    "How does it look though? Let's print it out..."
   ]
  },
  {
   "cell_type": "code",
   "execution_count": 7,
   "metadata": {},
   "outputs": [
    {
     "name": "stdout",
     "output_type": "stream",
     "text": [
      "StructuredData['location', 'population']\n",
      "\n",
      "Variables: {'static': ['location', 'population'], 'time_series': None}\n",
      "\n",
      "      location  population\n",
      "0            1   4903185.0\n",
      "1            2    731545.0\n",
      "2            4   7278717.0\n",
      "3            5   3017804.0\n",
      "4            6  39512223.0\n",
      "...        ...         ...\n",
      "3194     56037     42343.0\n",
      "3195     56039     23464.0\n",
      "3196     56041     20226.0\n",
      "3197     56043      7805.0\n",
      "3198     56045      6927.0\n",
      "\n",
      "[3199 rows x 2 columns]\n",
      "\n",
      "\n"
     ]
    }
   ],
   "source": [
    "print(population)"
   ]
  },
  {
   "cell_type": "markdown",
   "metadata": {},
   "source": [
    "Nicely done! Well, we're almost there, except now we have to merge them together. I wonder what kind of evil AutoML forces its users merge DataFrames in a sketchy way...\n",
    "\n",
    "## Merge StructureData(s) together\n",
    "\n",
    "Intuitively, when we merge two (or more) things together, we just add them together, right? Indeed, this is also why I love Python, it is so intuitive. For example:\n",
    "\n",
    "This is Python:\n",
    "```\n",
    "'hello' + 'world'\n",
    "```\n",
    "And this is C:\n",
    "```\n",
    "char src[] = \" World\";\n",
    "char dest[30] = \"Hello\";\n",
    "strncat(dest, src, 6);\n",
    "```\n",
    "\n",
    "![A Python vs. C mem](https://i.redd.it/o114bghz4pa31.jpg)\n",
    "\n",
    "Ok, I digressed. Wait, no, I actually did not! This is similar to how Epicas works!"
   ]
  },
  {
   "cell_type": "code",
   "execution_count": 8,
   "metadata": {},
   "outputs": [],
   "source": [
    "merged = jhu + population + mobility"
   ]
  },
  {
   "cell_type": "markdown",
   "metadata": {},
   "source": [
    "What?! Well, let's print it out."
   ]
  },
  {
   "cell_type": "code",
   "execution_count": 9,
   "metadata": {},
   "outputs": [
    {
     "name": "stdout",
     "output_type": "stream",
     "text": [
      "StructuredData['location', 'date', 'incidence', 'confirmed_cases_norm', 'population', 'fb_movement_change', 'fb_stationary']\n",
      "\n",
      "Variables: {'static': ['location', 'population'], 'time_series': ['confirmed_cases_norm', 'location', 'fb_movement_change', 'date', 'incidence', 'fb_stationary']}\n",
      "\n",
      "         location       date  incidence  confirmed_cases_norm  population  \\\n",
      "0            1001 2020-02-15        0.0                   0.0     55869.0   \n",
      "1            1001 2020-02-16        0.0                   0.0     55869.0   \n",
      "2            1001 2020-02-17        0.0                   0.0     55869.0   \n",
      "3            1001 2020-02-18        0.0                   0.0     55869.0   \n",
      "4            1001 2020-02-19        0.0                   0.0     55869.0   \n",
      "...           ...        ...        ...                   ...         ...   \n",
      "1344613     56045 2021-08-02        9.0                 129.0      6927.0   \n",
      "1344614     56045 2021-08-03       10.0                 144.0      6927.0   \n",
      "1344615     56045 2021-08-04       10.0                 144.0      6927.0   \n",
      "1344616     56045 2021-08-05       10.0                 144.0      6927.0   \n",
      "1344617     56045 2021-08-06        9.0                 129.0      6927.0   \n",
      "\n",
      "         fb_movement_change  fb_stationary  \n",
      "0                     -0.04           0.04  \n",
      "1                     -0.04           0.04  \n",
      "2                     -0.27           0.27  \n",
      "3                      0.02          -0.02  \n",
      "4                      0.02          -0.02  \n",
      "...                     ...            ...  \n",
      "1344613               -0.44           0.44  \n",
      "1344614               -0.34           0.34  \n",
      "1344615               -0.43           0.43  \n",
      "1344616               -0.34           0.34  \n",
      "1344617               -0.33           0.33  \n",
      "\n",
      "[1344618 rows x 7 columns]\n",
      "\n",
      "\n"
     ]
    }
   ],
   "source": [
    "print(merged)"
   ]
  },
  {
   "cell_type": "markdown",
   "metadata": {},
   "source": [
    "Wow, that was *\\*kinda\\** effortless... Actually, you can do more things with `StructuredData`, some of hidden features are listed in Epicas's Documentation, and some are coming soon in next versions.\n",
    "\n",
    "Thank you for reading and I hope you enjoy effortless forecasting with Epicas!"
   ]
  }
 ],
 "metadata": {
  "kernelspec": {
   "display_name": "Python 3",
   "language": "python",
   "name": "python3"
  },
  "language_info": {
   "codemirror_mode": {
    "name": "ipython",
    "version": 3
   },
   "file_extension": ".py",
   "mimetype": "text/x-python",
   "name": "python",
   "nbconvert_exporter": "python",
   "pygments_lexer": "ipython3",
   "version": "3.7.1"
  }
 },
 "nbformat": 4,
 "nbformat_minor": 4
}
